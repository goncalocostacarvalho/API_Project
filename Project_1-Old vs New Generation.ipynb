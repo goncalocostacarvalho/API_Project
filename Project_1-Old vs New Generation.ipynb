{
 "cells": [
  {
   "cell_type": "code",
   "execution_count": null,
   "id": "3ef806d5",
   "metadata": {},
   "outputs": [],
   "source": [
    "import requests\n",
    "import pandas as pd\n",
    "import numpy as np\n",
    "import matplotlib.pyplot as plt"
   ]
  },
  {
   "cell_type": "code",
   "execution_count": null,
   "id": "5e8db266",
   "metadata": {},
   "outputs": [],
   "source": [
    "def check_status(link):\n",
    "    try:\n",
    "        request = requests.get(link)\n",
    "        request.raise_for_status()  # returns an HTTPError if the response is not OK\n",
    "        print(\"All good! Response code is\", request.status_code)\n",
    "    except requests.exceptions.HTTPError as err:\n",
    "        if request.status_code == 404:\n",
    "            print(\"404: Oops, sorry we can't find that page!\")\n",
    "        else:\n",
    "            print(\"The error code is\", err.args[0]) # look up the 1st argument from HTTPError\n",
    "        return None"
   ]
  },
  {
   "cell_type": "code",
   "execution_count": null,
   "id": "de15c059",
   "metadata": {},
   "outputs": [],
   "source": [
    "teams_url = \"https://api-football-v1.p.rapidapi.com/v3/teams\"\n",
    "leagues_url = \"https://api-football-v1.p.rapidapi.com/v3/leagues\"\n",
    "squad_url = \"https://api-football-v1.p.rapidapi.com/v3/players/squads\"\n",
    "standings_url = \"https://api-football-v1.p.rapidapi.com/v3/standings\"\n",
    "players_url= \"https://api-football-v1.p.rapidapi.com/v3/players\""
   ]
  },
  {
   "cell_type": "code",
   "execution_count": null,
   "id": "ffa3b0b2",
   "metadata": {},
   "outputs": [],
   "source": [
    "headers = {\"X-RapidAPI-Key\": \"1172bcc0b2msh9e4885009157365p16ecbejsn0c707804a0bb\",\n",
    "           \"X-RapidAPI-Host\": \"api-football-v1.p.rapidapi.com\"}"
   ]
  },
  {
   "cell_type": "code",
   "execution_count": null,
   "id": "145607b2",
   "metadata": {},
   "outputs": [],
   "source": [
    "leagues_response=requests.get(leagues_url, headers=headers)\n",
    "leagues_data=leagues_response.json()"
   ]
  },
  {
   "cell_type": "code",
   "execution_count": null,
   "id": "4105fdbb",
   "metadata": {},
   "outputs": [],
   "source": [
    "leagues_data"
   ]
  },
  {
   "cell_type": "code",
   "execution_count": null,
   "id": "7e41092d",
   "metadata": {
    "scrolled": true
   },
   "outputs": [],
   "source": [
    "leagues_data.keys()"
   ]
  },
  {
   "cell_type": "code",
   "execution_count": null,
   "id": "31f69698",
   "metadata": {},
   "outputs": [],
   "source": [
    "leagues_data[\"response\"]"
   ]
  },
  {
   "cell_type": "code",
   "execution_count": null,
   "id": "e1cb48ee",
   "metadata": {},
   "outputs": [],
   "source": [
    "leagues_data[\"response\"][0]"
   ]
  },
  {
   "cell_type": "code",
   "execution_count": null,
   "id": "7ac88409",
   "metadata": {},
   "outputs": [],
   "source": [
    "leagues_data[\"response\"][0][\"league\"]"
   ]
  },
  {
   "cell_type": "code",
   "execution_count": null,
   "id": "83f020e5",
   "metadata": {},
   "outputs": [],
   "source": [
    "leagues_data[\"response\"][0][\"league\"][\"id\"]"
   ]
  },
  {
   "cell_type": "code",
   "execution_count": null,
   "id": "eabefa69",
   "metadata": {},
   "outputs": [],
   "source": [
    "leagues_data[\"response\"][0]"
   ]
  },
  {
   "cell_type": "code",
   "execution_count": null,
   "id": "1b699745",
   "metadata": {},
   "outputs": [],
   "source": [
    "premier_league_id = None\n",
    "for league in leagues_data[\"response\"]:\n",
    "    if league[\"league\"][\"name\"] == \"Premier League\":\n",
    "        premier_league_id = league[\"league\"][\"id\"]\n",
    "        break"
   ]
  },
  {
   "cell_type": "code",
   "execution_count": null,
   "id": "427e17af",
   "metadata": {},
   "outputs": [],
   "source": [
    "premier_league_id"
   ]
  },
  {
   "cell_type": "code",
   "execution_count": null,
   "id": "fd6e525f",
   "metadata": {},
   "outputs": [],
   "source": [
    "year=input(\"Which year do you want to get information? \")\n",
    "parameters = {\"league\":premier_league_id, \"season\":year}\n",
    "teams_response = requests.get(teams_url, headers=headers, params=parameters)\n",
    "teams_data = teams_response.json()\n",
    "teams_data"
   ]
  },
  {
   "cell_type": "code",
   "execution_count": null,
   "id": "6fe93363",
   "metadata": {},
   "outputs": [],
   "source": [
    "teams_data[\"response\"]"
   ]
  },
  {
   "cell_type": "code",
   "execution_count": null,
   "id": "e4a78cef",
   "metadata": {},
   "outputs": [],
   "source": [
    "teams_data_id = []\n",
    "teams_data_name = []\n",
    "for team in teams_data[\"response\"]:\n",
    "    team_id = team[\"team\"][\"id\"]\n",
    "    team_name = team[\"team\"][\"name\"]\n",
    "    teams_data_id.append(team_id)\n",
    "    teams_data_name.append(team_name)"
   ]
  },
  {
   "cell_type": "code",
   "execution_count": null,
   "id": "8658d87c",
   "metadata": {},
   "outputs": [],
   "source": [
    "teams_data_name"
   ]
  },
  {
   "cell_type": "code",
   "execution_count": null,
   "id": "6bf7b8c5",
   "metadata": {},
   "outputs": [],
   "source": [
    "teams_df= pd.DataFrame({\"Team ID\": teams_data_id, \"Team Name\": teams_data_name})\n",
    "teams_df"
   ]
  },
  {
   "cell_type": "code",
   "execution_count": null,
   "id": "4816b79d",
   "metadata": {},
   "outputs": [],
   "source": [
    "team_id = input(\"Which Team ID do you want to know more about? \") \n",
    "querystring={\"team\":team_id}\n",
    "\n",
    "headers = {\n",
    "\t\"X-RapidAPI-Key\": \"1172bcc0b2msh9e4885009157365p16ecbejsn0c707804a0bb\",\n",
    "\t\"X-RapidAPI-Host\": \"api-football-v1.p.rapidapi.com\"\n",
    "}\n",
    "\n",
    "squad_response = requests.get(squad_url, headers=headers, params=querystring)\n",
    "squad_data=squad_response.json()"
   ]
  },
  {
   "cell_type": "code",
   "execution_count": null,
   "id": "1213c201",
   "metadata": {},
   "outputs": [],
   "source": [
    "team_id_squad=squad_data[\"response\"][0][\"players\"]\n",
    "team_id_squad"
   ]
  },
  {
   "cell_type": "code",
   "execution_count": null,
   "id": "ec1867ef",
   "metadata": {},
   "outputs": [],
   "source": [
    "team_id_squad_df=pd.DataFrame(team_id_squad)\n",
    "team_id_squad_df"
   ]
  },
  {
   "cell_type": "code",
   "execution_count": null,
   "id": "fade7f20",
   "metadata": {},
   "outputs": [],
   "source": [
    "average_age_team_id_squad_df=team_id_squad_df[\"age\"].mean()\n",
    "average_age_team_id_squad_df"
   ]
  },
  {
   "cell_type": "code",
   "execution_count": null,
   "id": "5f4c1614",
   "metadata": {},
   "outputs": [],
   "source": [
    "your_answer=input(\"In what year would you like to know who was champion? \")\n",
    "querystring_1 = {\"season\":your_answer,\"league\":premier_league_id}\n",
    "\n",
    "headers = {\n",
    "\t\"X-RapidAPI-Key\": \"1172bcc0b2msh9e4885009157365p16ecbejsn0c707804a0bb\",\n",
    "\t\"X-RapidAPI-Host\": \"api-football-v1.p.rapidapi.com\"\n",
    "}\n",
    "\n",
    "standings_response = requests.get(standings_url, headers=headers, params=querystring_1)\n",
    "standings_data=standings_response.json()"
   ]
  },
  {
   "cell_type": "code",
   "execution_count": null,
   "id": "94b7b5ba",
   "metadata": {},
   "outputs": [],
   "source": [
    "league_winner = standings_data[\"response\"][0][\"league\"][\"standings\"][0][0][\"team\"][\"name\"]\n",
    "if league_winner:\n",
    "    print(f\"The league winner for {your_answer} is: {league_winner}\")\n",
    "else:\n",
    "    print(f\"No league winner found for {your_answer}\")"
   ]
  },
  {
   "cell_type": "code",
   "execution_count": null,
   "id": "10c4845a",
   "metadata": {},
   "outputs": [],
   "source": []
  },
  {
   "cell_type": "code",
   "execution_count": null,
   "id": "b2c96cc6",
   "metadata": {},
   "outputs": [],
   "source": [
    "#def league_squad_year():\n",
    "def league_id(your_league):\n",
    "        leagues_response=requests.get(leagues_url, headers=headers)\n",
    "        leagues_data=leagues_response.json()\n",
    "        league_id = None\n",
    "        for league in leagues_data[\"response\"]:\n",
    "            if league[\"league\"][\"name\"] == your_league:\n",
    "                league_id = league[\"league\"][\"id\"]\n",
    "                break\n",
    "        return league_id       \n",
    "\n",
    "\n",
    "def team_id(league_id, year):\n",
    "        parameters = {\"league\":league_id, \"season\":year}\n",
    "        teams_response = requests.get(teams_url, headers=headers, params=parameters)\n",
    "        teams_data = teams_response.json()\n",
    "        teams_data_id = []\n",
    "        teams_data_name = []\n",
    "        for team in teams_data[\"response\"]:\n",
    "            team_id = team[\"team\"][\"id\"]\n",
    "            team_name = team[\"team\"][\"name\"]\n",
    "            teams_data_id.append(team_id)\n",
    "            teams_data_name.append(team_name)\n",
    "        teams_df= pd.DataFrame({\"Team ID\": teams_data_id, \"Team Name\": teams_data_name})\n",
    "        return teams_df\n",
    "\n",
    "\n",
    "def squad_information(teams_data_id):\n",
    "        all_teams_squad_data = []\n",
    "        for team_id in teams_data_id:\n",
    "            parameters={\"team\":team_id}\n",
    "            squad_response = requests.get(squad_url, headers=headers, params=parameters)\n",
    "            squad_data=squad_response.json()\n",
    "            if squad_data[\"response\"]:\n",
    "                team_squad_data = squad_data[\"response\"][0][\"players\"]\n",
    "                for player in team_squad_data:\n",
    "                    player['club'] = team_id \n",
    "                all_teams_squad_data.extend(team_squad_data)\n",
    "        all_teams_squad_data_df=pd.DataFrame(all_teams_squad_data)\n",
    "        return pd.merge(teams_df, all_teams_squad_data_df, on=\"team_id\", how= \"outer\")\n",
    "\n",
    "\n",
    "def standings_information(league_id, year):\n",
    "        parameters = {\"season\":year,\"league\":league_id}\n",
    "        standings_response = requests.get(standings_url, headers=headers, params=querystring_1)\n",
    "        standings_data=standings_response.json()\n",
    "        league_winner = standings_data[\"response\"][0][\"league\"][\"standings\"][0][0][\"team\"][\"name\"]\n",
    "        if league_winner:\n",
    "            print(f\"The league winner for {your_answer} is: {league_winner}\")\n",
    "        else:\n",
    "            print(f\"No league winner found for {your_answer}\")"
   ]
  },
  {
   "cell_type": "code",
   "execution_count": null,
   "id": "84a5f972",
   "metadata": {},
   "outputs": [],
   "source": [
    "your_league = \"Premier League\"\n",
    "year = \"2023\""
   ]
  },
  {
   "cell_type": "code",
   "execution_count": null,
   "id": "0ac304f6",
   "metadata": {},
   "outputs": [],
   "source": [
    "league_id(your_league)"
   ]
  },
  {
   "cell_type": "code",
   "execution_count": null,
   "id": "66b78553",
   "metadata": {},
   "outputs": [],
   "source": [
    "league_id=\"39\""
   ]
  },
  {
   "cell_type": "code",
   "execution_count": null,
   "id": "8563100c",
   "metadata": {},
   "outputs": [],
   "source": [
    "team_id(league_id,year)"
   ]
  },
  {
   "cell_type": "code",
   "execution_count": null,
   "id": "1f8a6046",
   "metadata": {},
   "outputs": [],
   "source": [
    "teams_data_id=[33,34,35,36,39,40,42,44,45,47,48,49,50,51,52,55,62,65,66,1359]"
   ]
  },
  {
   "cell_type": "code",
   "execution_count": null,
   "id": "353ac891",
   "metadata": {},
   "outputs": [],
   "source": [
    "squad_information(teams_data_id)"
   ]
  },
  {
   "cell_type": "code",
   "execution_count": null,
   "id": "f2ea55ee",
   "metadata": {},
   "outputs": [],
   "source": [
    "leagues_response=requests.get(leagues_url, headers=headers)\n",
    "leagues_data=leagues_response.json()\n",
    "your_league=input(\"Which league do you want to analyze? \")\n",
    "league_id = None\n",
    "for league in leagues_data[\"response\"]:\n",
    "    if league[\"league\"][\"name\"] == your_league:\n",
    "        league_id = league[\"league\"][\"id\"]\n",
    "        break\n",
    "league_id"
   ]
  },
  {
   "cell_type": "code",
   "execution_count": null,
   "id": "12c80057",
   "metadata": {},
   "outputs": [],
   "source": [
    "year=input(\"Which year do you want to analyze? \")\n",
    "parameters = {\"league\":league_id, \"season\":year}\n",
    "teams_response = requests.get(teams_url, headers=headers, params=parameters)\n",
    "teams_data = teams_response.json()\n",
    "teams_data_id = []\n",
    "teams_data_name = []\n",
    "for team in teams_data[\"response\"]:\n",
    "    team_id = team[\"team\"][\"id\"]\n",
    "    team_name = team[\"team\"][\"name\"]\n",
    "    teams_data_id.append(team_id)\n",
    "    teams_data_name.append(team_name)\n",
    "teams_df= pd.DataFrame({\"Team ID\": teams_data_id, \"Team Name\": teams_data_name})\n",
    "teams_df"
   ]
  },
  {
   "cell_type": "code",
   "execution_count": null,
   "id": "69cd1193",
   "metadata": {},
   "outputs": [],
   "source": [
    "all_teams_squad_data = []\n",
    "for team_id in teams_data_id:\n",
    "    parameters={\"team\":team_id}\n",
    "    squad_response = requests.get(squad_url, headers=headers, params=parameters)\n",
    "    squad_data=squad_response.json()\n",
    "    if squad_data[\"response\"]:\n",
    "        team_squad_data = squad_data[\"response\"][0][\"players\"]\n",
    "        for player in team_squad_data:\n",
    "            player['Team ID'] = team_id \n",
    "        all_teams_squad_data.extend(team_squad_data)\n",
    "    all_teams_squad_data_df=pd.DataFrame(all_teams_squad_data)\n",
    "final_pd=pd.merge(teams_df, all_teams_squad_data_df, on=\"Team ID\", how= \"outer\")\n",
    "final_pd"
   ]
  },
  {
   "cell_type": "code",
   "execution_count": null,
   "id": "02769eef",
   "metadata": {},
   "outputs": [],
   "source": [
    "final_pd.info()"
   ]
  },
  {
   "cell_type": "code",
   "execution_count": null,
   "id": "82705253",
   "metadata": {},
   "outputs": [],
   "source": [
    "final_pd.dropna(subset=['age'], inplace=True)"
   ]
  },
  {
   "cell_type": "code",
   "execution_count": null,
   "id": "e403c973",
   "metadata": {},
   "outputs": [],
   "source": [
    "final_pd[\"age\"] = final_pd[\"age\"].astype(int)"
   ]
  },
  {
   "cell_type": "code",
   "execution_count": null,
   "id": "dcc3ccba",
   "metadata": {},
   "outputs": [],
   "source": [
    "final_pd.info()"
   ]
  },
  {
   "cell_type": "code",
   "execution_count": null,
   "id": "9236677f",
   "metadata": {},
   "outputs": [],
   "source": [
    "team_average_age=final_pd.groupby(\"Team Name\")[\"age\"].mean()"
   ]
  },
  {
   "cell_type": "code",
   "execution_count": null,
   "id": "8950513a",
   "metadata": {},
   "outputs": [],
   "source": [
    "sort_team_average_age=team_average_age.sort_values(ascending=True)\n",
    "sort_team_average_age"
   ]
  },
  {
   "cell_type": "code",
   "execution_count": null,
   "id": "9fc73def",
   "metadata": {},
   "outputs": [],
   "source": [
    "import matplotlib.pyplot as plt"
   ]
  },
  {
   "cell_type": "code",
   "execution_count": null,
   "id": "50c6a705",
   "metadata": {},
   "outputs": [],
   "source": [
    "sort_team_average_age.plot(kind='bar')"
   ]
  },
  {
   "cell_type": "code",
   "execution_count": null,
   "id": "271dc8a1",
   "metadata": {},
   "outputs": [],
   "source": [
    "parameters = {\"season\":year,\"league\":league_id}\n",
    "standings_response = requests.get(standings_url, headers=headers, params=parameters)\n",
    "standings_data=standings_response.json()\n",
    "league_winner = standings_data[\"response\"][0][\"league\"][\"standings\"][0][0][\"team\"][\"name\"]\n",
    "league_winner_df=pd.DataFrame({\"Year\": [year], \"Champion\": [league_winner]})\n",
    "league_winner_df"
   ]
  },
  {
   "cell_type": "code",
   "execution_count": null,
   "id": "de6f2faf",
   "metadata": {},
   "outputs": [],
   "source": [
    "fixtures_url = \"https://api-football-v1.p.rapidapi.com/v3/fixtures\"\n",
    "parameters = {\"season\":year,\"team\":team_id}\n",
    "fixtures_response=requests.get(fixtures_url, headers=headers, params=parameters)\n",
    "fixtures_data=fixtures_response.json()"
   ]
  },
  {
   "cell_type": "code",
   "execution_count": null,
   "id": "27c5cddf",
   "metadata": {},
   "outputs": [],
   "source": [
    "fixture_id=fixtures_data[\"response\"][0][\"fixture\"][\"id\"]"
   ]
  },
  {
   "cell_type": "code",
   "execution_count": null,
   "id": "51920698",
   "metadata": {},
   "outputs": [],
   "source": [
    "lineups_url = \"https://api-football-v1.p.rapidapi.com/v3/fixtures/lineups\""
   ]
  },
  {
   "cell_type": "code",
   "execution_count": null,
   "id": "a5935d78",
   "metadata": {},
   "outputs": [],
   "source": [
    "parameters={\"fixture\":fixture_id, \"team\":team_id}\n",
    "lineups_response=requests.get(lineups_url, headers=headers, params=parameters)\n",
    "lineups_data=lineups_response.json()"
   ]
  },
  {
   "cell_type": "code",
   "execution_count": null,
   "id": "d983be43",
   "metadata": {},
   "outputs": [],
   "source": [
    "lineup=lineups_data[\"response\"][0][\"startXI\"][i][\"player\"]"
   ]
  },
  {
   "cell_type": "code",
   "execution_count": null,
   "id": "d9d15d85",
   "metadata": {},
   "outputs": [],
   "source": [
    "lineups_data[\"response\"][0][\"startXI\"][0][\"player\"][\"name\"]"
   ]
  },
  {
   "cell_type": "code",
   "execution_count": null,
   "id": "2c77f2af",
   "metadata": {},
   "outputs": [],
   "source": [
    "players_count={}\n",
    "parameters = {\"season\":year,\"team\":team_id}\n",
    "fixtures_response=requests.get(fixtures_url, headers=headers, params=parameters)\n",
    "fixtures_data=fixtures_response.json()\n",
    "for fixture in fixtures_data[\"response\"]:\n",
    "    fixture_id=fixture[\"fixture\"][\"id\"]\n",
    "    parameters={\"fixture\":fixture_id, \"team\":team_id}\n",
    "    lineups_response=requests.get(lineups_url, headers=headers, params=parameters)\n",
    "    lineups_data=lineups_response.json()\n",
    "    if lineups_data[\"response\"]:\n",
    "        for lineup in lineups_data[\"response\"][0][\"startXI\"]:\n",
    "            player_name=lineup[\"player\"][\"name\"]\n",
    "            players_count[player_name] = players_count.get(player_name, 0) + 1\n",
    "lineup_df = pd.DataFrame(players_count, columns=[\"name\", \"Appearances\"])\n",
    "lineup_df"
   ]
  },
  {
   "cell_type": "code",
   "execution_count": null,
   "id": "66b9d461",
   "metadata": {},
   "outputs": [],
   "source": []
  },
  {
   "cell_type": "code",
   "execution_count": null,
   "id": "4e1d9d55",
   "metadata": {},
   "outputs": [],
   "source": [
    "current_year= int(input(\"Please specify the current year. \"))\n",
    "years_back=int(input(\"Please specify for how many years do you want to analyze the data? \"))\n",
    "winners_df = []\n",
    "for year in range(current_year, current_year - years_back - 1, -1):\n",
    "    parameters = {\"season\":year,\"league\":league_id}\n",
    "    standings_response = requests.get(standings_url, headers=headers, params=parameters)\n",
    "    standings_data=standings_response.json()\n",
    "    league_winner = standings_data[\"response\"][0][\"league\"][\"standings\"][0][0][\"team\"][\"name\"]\n",
    "    league_winner_df=pd.DataFrame({\"Year\": [year], \"Champion\": [league_winner]})\n",
    "    winners_df.append(league_winner_df)\n",
    "all_winners_df = pd.concat(winners_df, ignore_index=True)\n",
    "all_winners_df"
   ]
  },
  {
   "cell_type": "code",
   "execution_count": null,
   "id": "bc81fd71",
   "metadata": {},
   "outputs": [],
   "source": [
    "current_year= int(input(\"Please specify the current year \"))\n",
    "years_back=int(input(\"Please specify how many winners do you want to know? \"))\n",
    "all_teams = []\n",
    "for year in range(current_year, current_year - years_back - 1, -1):\n",
    "    parameters = {\"league\":league_id, \"season\":year}\n",
    "    teams_response = requests.get(teams_url, headers=headers, params=parameters)\n",
    "    teams_data = teams_response.json()\n",
    "    teams_data_id = []\n",
    "    teams_data_name = []\n",
    "    teams_data_year = []\n",
    "    for team in teams_data[\"response\"]:\n",
    "        team_id = team[\"team\"][\"id\"]\n",
    "        team_name = team[\"team\"][\"name\"]\n",
    "        team_year = year\n",
    "        teams_data_id.append(team_id)\n",
    "        teams_data_name.append(team_name)\n",
    "        teams_data_year.append(team_year)\n",
    "    teams_df= pd.DataFrame({\"Team ID\": teams_data_id, \"Team Name\": teams_data_name, \"Year\": teams_data_year})\n",
    "    all_teams.append(teams_df)\n",
    "all_teams_df = pd.concat(all_teams, ignore_index=True)\n",
    "all_teams_df"
   ]
  },
  {
   "cell_type": "code",
   "execution_count": null,
   "id": "668e9a9a",
   "metadata": {},
   "outputs": [],
   "source": [
    "all_teams_squad_data = []\n",
    "for year in range(current_year, current_year - years_back - 1, -1):\n",
    "    for team_id in teams_data_id:\n",
    "        parameters={\"team\":team_id, \"season\":year}\n",
    "        squad_response = requests.get(squad_url, headers=headers, params=parameters)\n",
    "        squad_data=squad_response.json()\n",
    "        if squad_data[\"response\"]:\n",
    "            team_squad_data = squad_data[\"response\"][0][\"players\"]\n",
    "            for player in team_squad_data:\n",
    "                player['Team ID'] = team_id \n",
    "            all_teams_squad_data.extend(team_squad_data)\n",
    "        all_teams_squad_data_df=pd.DataFrame(all_teams_squad_data)\n",
    "final_pd=pd.merge(teams_df, all_teams_squad_data_df, on=\"Team ID\", how= \"outer\")\n",
    "final_pd"
   ]
  },
  {
   "cell_type": "code",
   "execution_count": null,
   "id": "535de073",
   "metadata": {},
   "outputs": [],
   "source": [
    "all_teams_squad_data = []\n",
    "for year in range(current_year, current_year - years_back - 1, -1):\n",
    "    for team_id in teams_data_id:\n",
    "        parameters={\"team\":team_id, \"season\":year}\n",
    "        squad_response = requests.get(squad_url, headers=headers, params=parameters)\n",
    "        squad_data=squad_response.json()\n",
    "        team_squad_data = squad_data[\"response\"][0][\"players\"]\n",
    "        for player in team_squad_data:\n",
    "            player['Team ID'] = team_id \n",
    "        all_teams_squad_data.extend(team_squad_data)\n",
    "    all_teams_squad_data_df=pd.DataFrame(all_teams_squad_data)\n",
    "final_pd=pd.merge(teams_df, all_teams_squad_data_df, on=\"Team ID\", how= \"outer\")\n",
    "final_pd"
   ]
  },
  {
   "cell_type": "code",
   "execution_count": null,
   "id": "66f894fc",
   "metadata": {},
   "outputs": [],
   "source": [
    "squad_data[\"message\"]"
   ]
  },
  {
   "cell_type": "code",
   "execution_count": null,
   "id": "12380dea",
   "metadata": {},
   "outputs": [],
   "source": []
  },
  {
   "cell_type": "code",
   "execution_count": null,
   "id": "f998e740",
   "metadata": {},
   "outputs": [],
   "source": []
  },
  {
   "cell_type": "code",
   "execution_count": null,
   "id": "fc366143",
   "metadata": {},
   "outputs": [],
   "source": []
  },
  {
   "cell_type": "code",
   "execution_count": null,
   "id": "b7b85d92",
   "metadata": {},
   "outputs": [],
   "source": []
  },
  {
   "cell_type": "code",
   "execution_count": null,
   "id": "35b08fb0",
   "metadata": {},
   "outputs": [],
   "source": []
  },
  {
   "cell_type": "code",
   "execution_count": null,
   "id": "c47eb6ff",
   "metadata": {},
   "outputs": [],
   "source": [
    "teams = [\"Arsenal\", \"Chelsea\", \"Liverpool\", \"Manchester City\", \"Manchester United\", \"Tottenham\"]\n",
    "team_average_ages = {team: [] for team in teams}\n",
    "for year in range(2023, 2013, -1):\n",
    "    for team in teams:\n",
    "        params = {\"season\": year, \"team\": team}\n",
    "        response = requests.get(squad_url, headers=headers, params=params)\n",
    "        squad_data = response.json()\n",
    "        if squad_data[\"response\"]:\n",
    "            players = squad_data[\"response\"][0][\"players\"]\n",
    "            if players:\n",
    "                ages = [player[\"age\"] for player in players]\n",
    "                average_age = sum(ages) / len(ages)\n",
    "                team_average_ages[team].append(average_age)\n",
    "            else:\n",
    "                team_average_ages[team].append(None)\n",
    "        else:\n",
    "            team_average_ages[team].append(None)\n",
    "plt.figure(figsize=(10, 6))\n",
    "for team, average_ages_yearly in team_average_ages_yearly.items():\n",
    "    plt.plot(range(2022, 2012, -1), average_ages_yearly, label=team)\n",
    "plt.title(\"Average Age of Squads for Each Team Over the Past 10 Years\")\n",
    "plt.xlabel(\"Year\")\n",
    "plt.ylabel(\"Average Age\")\n",
    "plt.legend()\n",
    "plt.grid(True)\n",
    "plt.xticks(range(2022, 2012, -1), rotation=45)\n",
    "plt.tight_layout()\n",
    "plt.show()"
   ]
  },
  {
   "cell_type": "code",
   "execution_count": null,
   "id": "550eb457",
   "metadata": {},
   "outputs": [],
   "source": [
    "teams = [\"Arsenal\", \"Chelsea\", \"Liverpool\", \"Manchester City\", \"Manchester United\", \"Tottenham\"]\n",
    "\n",
    "# Initialize a dictionary to store average ages for each team in each year\n",
    "team_average_ages_yearly = {team: [] for team in teams}\n",
    "\n",
    "# Iterate over the past 10 years\n",
    "for year in range(2023, 2020, -1):\n",
    "    for team in teams:\n",
    "        # Make a request to get the squad for the current team and year\n",
    "        params = {\"season\": year, \"team\": team}\n",
    "        response = requests.get(squad_url, headers=headers, params=params)\n",
    "        squad_data = response.json()\n",
    "        \n",
    "        # Calculate the average age for the squad\n",
    "        if squad_data[\"response\"]:\n",
    "            players = squad_data[\"response\"][0][\"players\"]\n",
    "            if players:\n",
    "                ages = [player[\"age\"] for player in players]\n",
    "                team_ages_yearly[team].append(ages)\n",
    "            else:\n",
    "                team_ages_yearly[team].append(None)\n",
    "        else:\n",
    "            team_ages_yearly[team].append(None)\n",
    "\n",
    "# Create a line plot for each team\n",
    "plt.figure(figsize=(10, 6))\n",
    "\n",
    "for team, average_ages_yearly in team_average_ages_yearly.items():\n",
    "    plt.plot(range(2023, 2020, -1), average_ages_yearly, label=team)\n",
    "\n",
    "plt.title(\"Average Age of Squads for Each Team Over the Past 10 Years\")\n",
    "plt.xlabel(\"Year\")\n",
    "plt.ylabel(\"Average Age\")\n",
    "plt.legend()\n",
    "plt.grid(True)\n",
    "plt.xticks(range(2023, 2020, -1), rotation=45)\n",
    "plt.tight_layout()\n",
    "plt.show()"
   ]
  },
  {
   "cell_type": "code",
   "execution_count": null,
   "id": "022c2d4e",
   "metadata": {},
   "outputs": [],
   "source": [
    "teams = [\"Arsenal\", \"Chelsea\", \"Liverpool\", \"Manchester City\", \"Manchester United\", \"Tottenham\"]\n",
    "\n",
    "# Initialize an empty list to store the data\n",
    "data = []\n",
    "\n",
    "# Iterate over the past 10 years\n",
    "for year in range(2023, 2020, -1):\n",
    "    for team in teams:\n",
    "        # Make a request to get the squad for the current team and year\n",
    "        params = {\"season\": year, \"team\": team}\n",
    "        response = requests.get(squad_url, headers=headers, params=params)\n",
    "        squad_data = response.json()\n",
    "        \n",
    "        # Calculate the average age for the squad\n",
    "        if squad_data[\"response\"]:\n",
    "            players = squad_data[\"response\"][0][\"players\"]\n",
    "            if players:\n",
    "                ages = [player[\"age\"] for player in players]\n",
    "                data.append({\"Year\": year, \"Team\": team, \"Age\": average_age})\n",
    "\n",
    "# Create a DataFrame from the collected data\n",
    "df = pd.DataFrame(data)\n",
    "\n",
    "# Group by team and year and calculate the average age for each team by year\n",
    "team_avg_age_by_year = df.groupby([\"Team\", \"Year\"])[\"Age\"].mean().reset_index()\n",
    "\n",
    "print(team_avg_age_by_year)"
   ]
  },
  {
   "cell_type": "code",
   "execution_count": null,
   "id": "1b54a563",
   "metadata": {
    "scrolled": true
   },
   "outputs": [],
   "source": [
    "teams = [\"Arsenal\", \"Chelsea\", \"Liverpool\", \"Manchester City\", \"Manchester United\", \"Tottenham\"]\n",
    "\n",
    "# Initialize a dictionary to store average ages for each team in each year\n",
    "team_average_ages_yearly = {team: [] for team in teams}\n",
    "\n",
    "# Iterate over the past 10 years\n",
    "for year in range(2023, 2019, -1):  # Adjust the range as needed\n",
    "    for team in teams:\n",
    "        # Make a request to get the squad for the current team and year\n",
    "        params = {\"season\": year, \"team\": team}\n",
    "        response = requests.get(squad_url, headers=headers, params=params)\n",
    "        squad_data = response.json()\n",
    "        \n",
    "        # Calculate the average age for the squad\n",
    "        if squad_data[\"response\"]:\n",
    "            players = squad_data[\"response\"][0][\"players\"]\n",
    "            if players:\n",
    "                ages = [player[\"age\"] for player in players]\n",
    "                average_age = sum(ages) / len(ages)\n",
    "                team_average_ages_yearly[team].append(average_age)\n",
    "            else:\n",
    "                team_average_ages_yearly[team].append(None)\n",
    "        else:\n",
    "            team_average_ages_yearly[team].append(None)\n",
    "team_average_ages_yearly_df=pd.DataFrame(team_average_ages_yearly)\n",
    "team_average_ages_yearly_df"
   ]
  },
  {
   "cell_type": "code",
   "execution_count": null,
   "id": "71e408d2",
   "metadata": {},
   "outputs": [],
   "source": [
    "teams_dict = {}\n",
    "all_teams_squad_data = []\n",
    "for team in teams_data[\"response\"]:\n",
    "    teams_dict[team[\"team\"][\"name\"]] = team[\"team\"][\"id\"]\n",
    "\n",
    "# Define the list of team names\n",
    "teams = [\"Arsenal\", \"Chelsea\", \"Liverpool\", \"Manchester City\", \"Manchester United\", \"Tottenham\"]\n",
    "\n",
    "# Initialize a dictionary to store average ages for each team in each year\n",
    "team_average_ages_yearly = {team: [] for team in teams}\n",
    "\n",
    "# Define the range of years\n",
    "start_year = 2023\n",
    "end_year = 2020\n",
    "\n",
    "# Iterate over the range of years\n",
    "for year in range(start_year, end_year, -1):\n",
    "    for team in teams:\n",
    "        # Retrieve the team ID from the dictionary\n",
    "        team_id = teams_dict.get(team)\n",
    "        if team_id:\n",
    "            # Make a request to get the squad for the current team and year\n",
    "            squad_url = \"https://api-football-v1.p.rapidapi.com/v3/players/squads\"\n",
    "            parameters={\"team\":team_id}\n",
    "            squad_response = requests.get(squad_url, headers=headers)\n",
    "            squad_data = squad_response.json()\n",
    "            \n",
    "            # Check if the response contains data\n",
    "            if squad_data[\"response\"]:\n",
    "                team_squad_data = squad_data[\"response\"][0][\"players\"]\n",
    "                for player in team_squad_data:\n",
    "                    player['Team ID'] = team_id \n",
    "            all_teams_squad_data.extend(team_squad_data)\n",
    "    all_teams_squad_data_df=pd.DataFrame(all_teams_squad_data)\n",
    "final_pd=pd.merge(teams_df, all_teams_squad_data_df, on=\"Team ID\", how= \"outer\")\n",
    "final_pd"
   ]
  },
  {
   "cell_type": "code",
   "execution_count": null,
   "id": "57c5b1bf",
   "metadata": {},
   "outputs": [],
   "source": [
    "plt.plot(df['Year'], df['Average Age'], marker='o')\n",
    "plt.title('Average Age of Chelsea Squad (2020-2023)')\n",
    "plt.xlabel('Year')\n",
    "plt.ylabel('Average Age')\n",
    "plt.grid(True)\n",
    "plt.show()\n"
   ]
  },
  {
   "cell_type": "code",
   "execution_count": null,
   "id": "ee80bd7d",
   "metadata": {},
   "outputs": [],
   "source": [
    "all_teams_squad_data = []\n",
    "years=[2021, 2022, 2023]\n",
    "teams_data_id=[33, 40, 47]\n",
    "for year in years:\n",
    "    for team_id in teams_data_id:\n",
    "        parameters={\"team\":team_id}\n",
    "        squad_response = requests.get(squad_url, headers=headers, params=parameters)\n",
    "        squad_data=squad_response.json()\n",
    "        if squad_data[\"response\"]:\n",
    "            team_squad_data = squad_data[\"response\"][0][\"players\"]\n",
    "            for player in team_squad_data:\n",
    "                player['Team ID'] = team_id \n",
    "            all_teams_squad_data.extend(team_squad_data)\n",
    "        all_teams_squad_data_df=pd.DataFrame(all_teams_squad_data)\n",
    "final_pd=pd.merge(teams_df, all_teams_squad_data_df, on=\"Team ID\", how= \"outer\")"
   ]
  },
  {
   "cell_type": "code",
   "execution_count": null,
   "id": "c6ca61b2",
   "metadata": {},
   "outputs": [],
   "source": [
    "all_teams_squad_data = []\n",
    "\n",
    "# Define the years and teams' IDs\n",
    "years = [2021, 2022, 2023]\n",
    "teams_data_id = [33, 40, 47]\n",
    "\n",
    "# Loop through each year and team ID to fetch squad data\n",
    "for year in years:\n",
    "    for team_id in teams_data_id:\n",
    "        parameters = {\"id\": team_id, \"season\": year}\n",
    "        squad_response = requests.get(squad_url, headers=headers, params=parameters)\n",
    "        squad_data = squad_response.json()\n",
    "        if squad_data[\"response\"]:\n",
    "            team_squad_data = squad_data[\"response\"][0][\"players\"]\n",
    "            for player in team_squad_data:\n",
    "                # Check if 'Team ID' exists in player data, if not, add it\n",
    "                if 'Team ID' not in player:\n",
    "                    player['Team ID'] = team_id\n",
    "            all_teams_squad_data.extend(team_squad_data)\n",
    "\n",
    "# Create DataFrame from all_teams_squad_data\n",
    "all_teams_squad_data_df = pd.DataFrame(all_teams_squad_data)\n",
    "\n",
    "# Assuming teams_df is already defined elsewhere\n",
    "# Merge teams DataFrame with squad data on 'Team ID'\n",
    "final_pd = pd.merge(teams_df, all_teams_squad_data_df, on=\"Team ID\", how=\"outer\")\n",
    "\n",
    "# Display the final DataFrame\n",
    "print(final_pd)"
   ]
  },
  {
   "cell_type": "code",
   "execution_count": null,
   "id": "6bba97c0",
   "metadata": {},
   "outputs": [],
   "source": [
    "final_pd.dropna()"
   ]
  },
  {
   "cell_type": "code",
   "execution_count": null,
   "id": "9a3f74a2",
   "metadata": {
    "scrolled": false
   },
   "outputs": [],
   "source": [
    "team_average_age=final_pd.groupby([\"Team Name\", \"Year\"])[\"age\"].mean()\n",
    "team_average_age"
   ]
  },
  {
   "cell_type": "code",
   "execution_count": null,
   "id": "8fcbe366",
   "metadata": {},
   "outputs": [],
   "source": []
  },
  {
   "cell_type": "code",
   "execution_count": null,
   "id": "116a2b2f",
   "metadata": {},
   "outputs": [],
   "source": []
  },
  {
   "cell_type": "code",
   "execution_count": null,
   "id": "2751fcb0",
   "metadata": {},
   "outputs": [],
   "source": [
    "year=input(\"Which year do you want to analyze? \")\n",
    "parameters = {\"league\":league_id, \"season\":year}\n",
    "teams_response = requests.get(teams_url, headers=headers, params=parameters)\n",
    "teams_data = teams_response.json()\n",
    "teams_data_id = []\n",
    "teams_data_name = []\n",
    "for team in teams_data[\"response\"]:\n",
    "    team_id = team[\"team\"][\"id\"]\n",
    "    team_name = team[\"team\"][\"name\"]\n",
    "    teams_data_id.append(team_id)\n",
    "    teams_data_name.append(team_name)\n",
    "teams_df= pd.DataFrame({\"Team ID\": teams_data_id, \"Team Name\": teams_data_name})\n",
    "teams_df"
   ]
  },
  {
   "cell_type": "code",
   "execution_count": null,
   "id": "21bd0dc9",
   "metadata": {},
   "outputs": [],
   "source": [
    "all_teams_squad_data = []\n",
    "for team_id in teams_data_id:\n",
    "    parameters={\"team\":team_id, \"season\":year}\n",
    "    squad_response = requests.get(squad_url, headers=headers, params=parameters)\n",
    "    squad_data=squad_response.json()\n",
    "    if squad_data[\"response\"]:\n",
    "        team_squad_data = squad_data[\"response\"][0][\"players\"] \n",
    "        all_teams_squad_data.extend(team_squad_data)\n",
    "    all_teams_squad_data_df=pd.DataFrame(all_teams_squad_data)\n",
    "final_pd=pd.merge(teams_df, all_teams_squad_data_df, on=\"Team ID\", how= \"outer\")\n",
    "team_average_age=final_pd.groupby(\"Team Name\")[\"age\"].mean()\n",
    "sort_team_average_age=team_average_age.sort_values(ascending=True)\n",
    "sort_team_average_age\n",
    "all_teams_squad_data_df"
   ]
  },
  {
   "cell_type": "code",
   "execution_count": null,
   "id": "6bb5b65b",
   "metadata": {},
   "outputs": [],
   "source": [
    "data=[]\n",
    "team_name_7 = 'Arsenal'\n",
    "year_7 = 2022\n",
    "average_age_7 = 23.72\n",
    "team_name_8 = 'Chelsea'\n",
    "year_8 = 2022\n",
    "average_age_8 = 21.4\n",
    "team_name_9 = 'Liverpool'\n",
    "year_9 = 2022\n",
    "average_age_9 = 23.37\n",
    "team_name_10 = 'Manchester City'\n",
    "year_10 = 2022\n",
    "average_age_10 = 24.96\n",
    "team_name_11 = 'Manchester United'\n",
    "year_11 = 2022\n",
    "average_age_11 = 24.44\n",
    "team_name_12 = 'Tottenham'\n",
    "year_12 = 2022\n",
    "average_age_12 = 24.23\n",
    "data.append([team_name_7, year_7, average_age_7])\n",
    "data.append([team_name_8, year_8, average_age_8])\n",
    "data.append([team_name_9, year_9, average_age_9])\n",
    "data.append([team_name_10, year_10, average_age_10])\n",
    "data.append([team_name_11, year_11, average_age_11])\n",
    "data.append([team_name_12, year_12, average_age_12])\n",
    "df = pd.DataFrame(data, columns=['Team Name', 'Year', 'Average Age'])\n",
    "df"
   ]
  },
  {
   "cell_type": "code",
   "execution_count": null,
   "id": "933eeccf",
   "metadata": {},
   "outputs": [],
   "source": [
    "new_row_1=['Arsenal', 2020, 23.72]\n",
    "new_row_2=['Chelsea', 2020, 21.4]\n",
    "new_row_3=['Liverpool', 2020, 23.37]\n",
    "new_row_4=['Manchester City', 2020, 24.96]\n",
    "new_row_5=['Manchester United', 2020, 24.44]\n",
    "new_row_6=['Tottenham', 2020, 24.23]\n",
    "df.loc[len(df)] = new_row_1\n",
    "df.loc[len(df)] = new_row_2\n",
    "df.loc[len(df)] = new_row_3\n",
    "df.loc[len(df)] = new_row_4\n",
    "df.loc[len(df)] = new_row_5\n",
    "df.loc[len(df)] = new_row_6\n",
    "df"
   ]
  },
  {
   "cell_type": "code",
   "execution_count": null,
   "id": "353a06a0",
   "metadata": {},
   "outputs": [],
   "source": [
    "players_squads_url = \"https://api-football-v1.p.rapidapi.com/v3/players/seasons\"\n",
    "team_id = \"33\"\n",
    "year = \"2020\"\n",
    "\n",
    "# Define the parameters\n",
    "parameters = {\"id\": team_id, \"season\": year}\n",
    "\n",
    "# Make the API request\n",
    "players_squads_response = requests.get(players_squads_url, headers=headers, params=parameters)\n",
    "players_squads_data = players_squads_response.json()\n",
    "\n",
    "# Display the response data\n",
    "print(players_squads_data)"
   ]
  },
  {
   "cell_type": "code",
   "execution_count": null,
   "id": "7934d63f",
   "metadata": {},
   "outputs": [],
   "source": [
    "team_id = \"33\"  # Example: Chelsea's team ID\n",
    "season = \"2020\"\n",
    "\n",
    "# Define the parameters\n",
    "parameters = {\"team\": team_id, \"Season\": season}\n",
    "\n",
    "# Make the API request\n",
    "squad_response = requests.get(squad_url, headers=headers, params=parameters)\n",
    "squad_data = squad_response.json()\n",
    "\n",
    "# Display the squad data\n",
    "print(squad_data)"
   ]
  },
  {
   "cell_type": "code",
   "execution_count": null,
   "id": "3a33adff",
   "metadata": {},
   "outputs": [],
   "source": [
    "lineups_url = \"https://api-football-v1.p.rapidapi.com/v3/fixtures/lineups\"\n",
    "team_id = \"33\"\n",
    "lineups_parameters = {\"team\": team_id}\n",
    "lineups_response = requests.get(lineups_url, headers=headers, params=lineups_parameters)\n",
    "lineups_data = lineups_response.json()\n",
    "\n",
    "# Initialize a dictionary to count appearances for each player\n",
    "player_appearances = {}\n",
    "\n",
    "# Iterate through each match in the season\n",
    "for match in lineups_data['response']:\n",
    "    # Iterate through the starting 11 players in the home team\n",
    "    for player in match['lineups']['home']['startXI']:\n",
    "        player_id = player['player_id']\n",
    "        if player_id in player_appearances:\n",
    "            player_appearances[player_id] += 1\n",
    "        else:\n",
    "            player_appearances[player_id] = 1\n",
    "    \n",
    "    # Iterate through the starting 11 players in the away team\n",
    "    for player in match['lineups']['away']['startXI']:\n",
    "        player_id = player['player_id']\n",
    "        if player_id in player_appearances:\n",
    "            player_appearances[player_id] += 1\n",
    "        else:\n",
    "            player_appearances[player_id] = 1\n",
    "\n",
    "# Sort the players by number of appearances in descending order\n",
    "sorted_players = sorted(player_appearances.items(), key=lambda x: x[1], reverse=True)\n",
    "\n",
    "# Get the top 11 players with the most appearances\n",
    "top_11_players = sorted_players[:11]\n",
    "\n",
    "# Display the top 11 players and their number of appearances\n",
    "for player_id, appearances in top_11_players:\n",
    "    print(f\"Player ID: {player_id}, Appearances: {appearances}\")"
   ]
  },
  {
   "cell_type": "code",
   "execution_count": null,
   "id": "d012af2b",
   "metadata": {},
   "outputs": [],
   "source": [
    "top_11_players"
   ]
  },
  {
   "cell_type": "code",
   "execution_count": null,
   "id": "be9ff218",
   "metadata": {},
   "outputs": [],
   "source": [
    "players_name=[]\n",
    "years=[]\n",
    "teams_id=[]\n",
    "age=[]\n",
    "start_year=2022\n",
    "end_year=2020\n",
    "teams_id = [33]\n",
    "for year in range(start_year, end_year, -1):\n",
    "    for team in teams_id:\n",
    "        querystring = {\"team\":team,\"season\":year}\n",
    "        players_response = requests.get(players_url, headers=headers, params=querystring)\n",
    "        players_data=players_response.json()\n",
    "        if players_data[\"response\"]:\n",
    "            team_players_data=players_data[\"response\"]\n",
    "            for player in team_players_data:\n",
    "                player_name= player[\"player\"][\"name\"]\n",
    "                player_age=player[\"player\"][\"age\"]\n",
    "                players_name.append(player_name)\n",
    "                years.append(year)\n",
    "                teams_id.append(team)\n",
    "                age.append(player_age)\n",
    "data = {\"Player Name\": players_name,\"Year\": years,\"Team ID\": teams_id, \"Age\": age}\n",
    "player_data_df = pd.DataFrame(data)\n",
    "player_data_df"
   ]
  },
  {
   "cell_type": "code",
   "execution_count": null,
   "id": "cd182cf5",
   "metadata": {},
   "outputs": [],
   "source": [
    "for year in range(start_year, end_year - 1, -1):\n",
    "    for team in teams_id:\n",
    "        # Define query parameters\n",
    "        querystring = {\"team\": team, \"season\": year}\n",
    "        \n",
    "        # Make the API request\n",
    "        players_response = requests.get(players_url, headers=headers, params=querystring)\n",
    "        players_data = players_response.json()\n",
    "        \n",
    "        # Check if response contains data\n",
    "        if players_data[\"response\"]:\n",
    "            # Extract players' data for the team and season\n",
    "            team_players_data = players_data[\"response\"]\n",
    "            \n",
    "            # Append players' data to the list\n",
    "            teams_players_data.extend(team_players_data)\n",
    "\n",
    "# Create DataFrame from the accumulated players' data\n",
    "teams_players_data_df = pd.DataFrame(teams_players_data)\n",
    "teams_players_data_df"
   ]
  },
  {
   "cell_type": "code",
   "execution_count": null,
   "id": "e870dbe9",
   "metadata": {},
   "outputs": [],
   "source": [
    "players_data[\"response\"][1][\"player\"][\"name\"]"
   ]
  },
  {
   "cell_type": "code",
   "execution_count": null,
   "id": "c03fcd85",
   "metadata": {},
   "outputs": [],
   "source": [
    " # Check if the response contains data\n",
    "            if squad_data[\"response\"]:\n",
    "                team_squad_data = squad_data[\"response\"][0][\"players\"]\n",
    "                for player in team_squad_data:\n",
    "                    player['Team ID'] = team_id \n",
    "            all_teams_squad_data.extend(team_squad_data)\n",
    "    all_teams_squad_data_df=pd.DataFrame(all_teams_squad_data)\n",
    "final_pd=pd.merge(teams_df, all_teams_squad_data_df, on=\"Team ID\", how= \"outer\")\n",
    "final_pd"
   ]
  }
 ],
 "metadata": {
  "kernelspec": {
   "display_name": "Python 3 (ipykernel)",
   "language": "python",
   "name": "python3"
  },
  "language_info": {
   "codemirror_mode": {
    "name": "ipython",
    "version": 3
   },
   "file_extension": ".py",
   "mimetype": "text/x-python",
   "name": "python",
   "nbconvert_exporter": "python",
   "pygments_lexer": "ipython3",
   "version": "3.11.5"
  }
 },
 "nbformat": 4,
 "nbformat_minor": 5
}
